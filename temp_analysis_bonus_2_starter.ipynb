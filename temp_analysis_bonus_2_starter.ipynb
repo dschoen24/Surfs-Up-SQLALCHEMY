{
 "cells": [
  {
   "cell_type": "code",
   "execution_count": 1,
   "source": [
    "%matplotlib inline\r\n",
    "from matplotlib import style\r\n",
    "style.use('fivethirtyeight')\r\n",
    "import matplotlib.pyplot as plt"
   ],
   "outputs": [],
   "metadata": {}
  },
  {
   "cell_type": "code",
   "execution_count": 2,
   "source": [
    "import numpy as np\r\n",
    "import pandas as pd\r\n",
    "import datetime as dt"
   ],
   "outputs": [],
   "metadata": {}
  },
  {
   "cell_type": "markdown",
   "source": [
    "## Reflect Tables into SQLALchemy ORM"
   ],
   "metadata": {}
  },
  {
   "cell_type": "code",
   "execution_count": 3,
   "source": [
    "# Python SQL toolkit and Object Relational Mapper\r\n",
    "import sqlalchemy\r\n",
    "from sqlalchemy.ext.automap import automap_base\r\n",
    "from sqlalchemy.orm import Session\r\n",
    "from sqlalchemy import create_engine, func"
   ],
   "outputs": [],
   "metadata": {}
  },
  {
   "cell_type": "code",
   "execution_count": 4,
   "source": [
    "# create engine to hawaii.sqlite\r\n",
    "engine = create_engine(\"sqlite:///Resources/hawaii.sqlite\")"
   ],
   "outputs": [],
   "metadata": {}
  },
  {
   "cell_type": "code",
   "execution_count": 5,
   "source": [
    "# reflect an existing database into a new model\r\n",
    "Base = automap_base()\r\n",
    "# reflect the tables\r\n",
    "Base.prepare(engine, reflect=True)"
   ],
   "outputs": [],
   "metadata": {}
  },
  {
   "cell_type": "code",
   "execution_count": 6,
   "source": [
    "# View all of the classes that automap found\r\n",
    "Base.classes.keys()"
   ],
   "outputs": [
    {
     "output_type": "execute_result",
     "data": {
      "text/plain": [
       "['measurement', 'station']"
      ]
     },
     "metadata": {},
     "execution_count": 6
    }
   ],
   "metadata": {}
  },
  {
   "cell_type": "code",
   "execution_count": 7,
   "source": [
    "# Save references to each table\r\n",
    "Measurement = Base.classes.measurement\r\n",
    "Station = Base.classes.station"
   ],
   "outputs": [],
   "metadata": {}
  },
  {
   "cell_type": "code",
   "execution_count": 8,
   "source": [
    "# Create our session (link) from Python to the DB\r\n",
    "session = Session(engine)"
   ],
   "outputs": [],
   "metadata": {}
  },
  {
   "cell_type": "markdown",
   "source": [
    "## Bonus Challenge Assignment: Temperature Analysis II"
   ],
   "metadata": {}
  },
  {
   "cell_type": "code",
   "execution_count": 9,
   "source": [
    "# This function called `calc_temps` will accept start date and end date in the format '%Y-%m-%d' \r\n",
    "# and return the minimum, maximum, and average temperatures for that range of dates\r\n",
    "def calc_temps(start_date, end_date):\r\n",
    "    \"\"\"TMIN, TAVG, and TMAX for a list of dates.\r\n",
    "    \r\n",
    "    Args:\r\n",
    "        start_date (string): A date string in the format %Y-%m-%d\r\n",
    "        end_date (string): A date string in the format %Y-%m-%d\r\n",
    "        \r\n",
    "    Returns:\r\n",
    "        TMIN, TAVE, and TMAX\r\n",
    "    \"\"\"\r\n",
    "    \r\n",
    "    return session.query(func.min(Measurement.tobs), func.avg(Measurement.tobs), func.max(Measurement.tobs)).\\\r\n",
    "        filter(Measurement.date >= start_date).filter(Measurement.date <= end_date).all()\r\n",
    "\r\n",
    "# For example\r\n",
    "print(calc_temps('2017-08-01', '2017-08-07'))"
   ],
   "outputs": [
    {
     "output_type": "stream",
     "name": "stdout",
     "text": [
      "[(72.0, 79.25, 83.0)]\n"
     ]
    }
   ],
   "metadata": {}
  },
  {
   "cell_type": "code",
   "execution_count": 10,
   "source": [
    "# Use the function `calc_temps` to calculate the tmin, tavg, and tmax \r\n",
    "# for a year in the data set\r\n",
    "\r\n",
    "start_date='2017-08-01'\r\n",
    "end_date='2017-08-07'\r\n",
    "\r\n",
    "def calc_temps(start_date,end_date):\r\n",
    "    \r\n",
    "    return (session.query(func.min(Measurement.tobs), \r\n",
    "                          func.round(\r\n",
    "                          func.avg(Measurement.tobs)), \r\n",
    "                          func.max(Measurement.tobs))\r\n",
    "                   .filter(Measurement.date >= start_date)\r\n",
    "                   .filter(Measurement.date <= end_date)\r\n",
    "                   .all())\r\n",
    "\r\n",
    "trip_temp=calc_temps(start_date,end_date)\r\n",
    "#print(trip_temp)\r\n",
    "\r\n",
    "trip_temp_df=pd.DataFrame({'start_date': start_date,\r\n",
    "                           'end_date': end_date,\r\n",
    "                           'min_temp': [trip_temp[0][0]],\r\n",
    "                           'avg_temp': [trip_temp[0][1]],\r\n",
    "                           'max_temp': [trip_temp[0][2]]\r\n",
    "                          })\r\n",
    "trip_temp_df.set_index(['start_date','end_date'],inplace=True)\r\n",
    "trip_temp_df"
   ],
   "outputs": [
    {
     "output_type": "execute_result",
     "data": {
      "text/plain": [
       "                       min_temp  avg_temp  max_temp\n",
       "start_date end_date                                \n",
       "2017-08-01 2017-08-07      72.0      79.0      83.0"
      ],
      "text/html": [
       "<div>\n",
       "<style scoped>\n",
       "    .dataframe tbody tr th:only-of-type {\n",
       "        vertical-align: middle;\n",
       "    }\n",
       "\n",
       "    .dataframe tbody tr th {\n",
       "        vertical-align: top;\n",
       "    }\n",
       "\n",
       "    .dataframe thead th {\n",
       "        text-align: right;\n",
       "    }\n",
       "</style>\n",
       "<table border=\"1\" class=\"dataframe\">\n",
       "  <thead>\n",
       "    <tr style=\"text-align: right;\">\n",
       "      <th></th>\n",
       "      <th></th>\n",
       "      <th>min_temp</th>\n",
       "      <th>avg_temp</th>\n",
       "      <th>max_temp</th>\n",
       "    </tr>\n",
       "    <tr>\n",
       "      <th>start_date</th>\n",
       "      <th>end_date</th>\n",
       "      <th></th>\n",
       "      <th></th>\n",
       "      <th></th>\n",
       "    </tr>\n",
       "  </thead>\n",
       "  <tbody>\n",
       "    <tr>\n",
       "      <th>2017-08-01</th>\n",
       "      <th>2017-08-07</th>\n",
       "      <td>72.0</td>\n",
       "      <td>79.0</td>\n",
       "      <td>83.0</td>\n",
       "    </tr>\n",
       "  </tbody>\n",
       "</table>\n",
       "</div>"
      ]
     },
     "metadata": {},
     "execution_count": 10
    }
   ],
   "metadata": {}
  },
  {
   "cell_type": "code",
   "execution_count": 11,
   "source": [
    "my_trip = calc_temps(\"2017-08-01\", \"2017-08-07\")\r\n",
    "my_trip"
   ],
   "outputs": [
    {
     "output_type": "execute_result",
     "data": {
      "text/plain": [
       "[(72.0, 79.0, 83.0)]"
      ]
     },
     "metadata": {},
     "execution_count": 11
    }
   ],
   "metadata": {}
  },
  {
   "cell_type": "code",
   "execution_count": 12,
   "source": [
    "trip_temp_df = pd.DataFrame(my_trip, columns=[\"TMIN\", \"TAVG\", \"TMAX\"])"
   ],
   "outputs": [],
   "metadata": {}
  },
  {
   "cell_type": "code",
   "execution_count": 13,
   "source": [
    "# Plot the results from your previous query as a bar chart. \r\n",
    "# Use \"Trip Avg Temp\" as your Title\r\n",
    "# Use the average temperature for bar height (y value)\r\n",
    "# Use the peak-to-peak (tmax-tmin) value as the y error bar (yerr)\r\n",
    "trip_temp_df.plot.bar(y=\"TAVG\", yerr=(trip_temp_df[\"TMAX\"] - trip_temp_df[\"TMIN\"]), \r\n",
    "                    title='Trip Avg Temp\\nHonolulu, Hawaii', color=\"blue\", \r\n",
    "                    alpha=0.5, figsize=(5,7), legend=None)\r\n",
    "plt.xticks([])\r\n",
    "plt.yticks(fontsize=14)\r\n",
    "plt.xlabel(\"From 2017-08-01 To 2017-08-07\",fontsize=14,color='black')\r\n",
    "plt.ylabel(\"Temperature (F)\",fontsize=16,color='black',labelpad=20)\r\n",
    "plt.tight_layout()\r\n",
    "plt.savefig(\"Images/bonus_trip_avg_temp.png\")\r\n",
    "plt.show()"
   ],
   "outputs": [
    {
     "output_type": "display_data",
     "data": {
      "text/plain": [
       "<Figure size 360x504 with 1 Axes>"
      ],
      "image/png": "[encoded data removed]"
     },
     "metadata": {}
    }
   ],
   "metadata": {}
  },
  {
   "cell_type": "markdown",
   "source": [
    "### Daily Rainfall Average"
   ],
   "metadata": {}
  },
  {
   "cell_type": "code",
   "execution_count": 14,
   "source": [
    "# Calculate the total amount of rainfall per weather station for your trip dates using the previous year's \r\n",
    "# matching dates.\r\n",
    "# Sort this in descending order by precipitation amount and list the station, name, latitude, longitude, and elevation\r\n",
    "total_prcp_by_st=(session.query(Measurement.station,Station.name,func.sum(Measurement.prcp),\r\n",
    "                                Station.latitude,Station.longitude,Station.elevation)\r\n",
    "                         .filter(Measurement.date >= start_date)\r\n",
    "                         .filter(Measurement.date <= end_date)\r\n",
    "                         .filter(Measurement.station == Station.station)\r\n",
    "                         .group_by(Measurement.station)\r\n",
    "                         .order_by(func.sum(Measurement.prcp)\r\n",
    "                         .desc())\r\n",
    "                         .all())"
   ],
   "outputs": [],
   "metadata": {}
  },
  {
   "cell_type": "code",
   "execution_count": 15,
   "source": [
    "print(f'Daily total rainfall estimates by station for dates between {start_date} and {end_date}.')\r\n",
    "\r\n",
    "total_prcp_by_st_df=pd.DataFrame(total_prcp_by_st,\r\n",
    "                                 columns=['station','name',\r\n",
    "                                          'total_prcp','latitude',\r\n",
    "                                          'longitude','elevation'])\r\n",
    "total_prcp_by_st_df"
   ],
   "outputs": [
    {
     "output_type": "stream",
     "name": "stdout",
     "text": [
      "Daily total rainfall estimates by station for dates between 2017-08-01 and 2017-08-07.\n"
     ]
    },
    {
     "output_type": "execute_result",
     "data": {
      "text/plain": [
       "       station                                    name  total_prcp  latitude  \\\n",
       "0  USC00516128            MANOA LYON ARBO 785.2, HI US        0.36  21.33310   \n",
       "1  USC00514830  KUALOA RANCH HEADQUARTERS 886.9, HI US        0.22  21.52130   \n",
       "2  USC00519281                     WAIHEE 837.5, HI US        0.06  21.45167   \n",
       "3  USC00519397                    WAIKIKI 717.2, HI US        0.04  21.27160   \n",
       "4  USC00519523      WAIMANALO EXPERIMENTAL FARM, HI US        0.00  21.33556   \n",
       "\n",
       "   longitude  elevation  \n",
       "0 -157.80250      152.4  \n",
       "1 -157.83740        7.0  \n",
       "2 -157.84889       32.9  \n",
       "3 -157.81680        3.0  \n",
       "4 -157.71139       19.5  "
      ],
      "text/html": [
       "<div>\n",
       "<style scoped>\n",
       "    .dataframe tbody tr th:only-of-type {\n",
       "        vertical-align: middle;\n",
       "    }\n",
       "\n",
       "    .dataframe tbody tr th {\n",
       "        vertical-align: top;\n",
       "    }\n",
       "\n",
       "    .dataframe thead th {\n",
       "        text-align: right;\n",
       "    }\n",
       "</style>\n",
       "<table border=\"1\" class=\"dataframe\">\n",
       "  <thead>\n",
       "    <tr style=\"text-align: right;\">\n",
       "      <th></th>\n",
       "      <th>station</th>\n",
       "      <th>name</th>\n",
       "      <th>total_prcp</th>\n",
       "      <th>latitude</th>\n",
       "      <th>longitude</th>\n",
       "      <th>elevation</th>\n",
       "    </tr>\n",
       "  </thead>\n",
       "  <tbody>\n",
       "    <tr>\n",
       "      <th>0</th>\n",
       "      <td>USC00516128</td>\n",
       "      <td>MANOA LYON ARBO 785.2, HI US</td>\n",
       "      <td>0.36</td>\n",
       "      <td>21.33310</td>\n",
       "      <td>-157.80250</td>\n",
       "      <td>152.4</td>\n",
       "    </tr>\n",
       "    <tr>\n",
       "      <th>1</th>\n",
       "      <td>USC00514830</td>\n",
       "      <td>KUALOA RANCH HEADQUARTERS 886.9, HI US</td>\n",
       "      <td>0.22</td>\n",
       "      <td>21.52130</td>\n",
       "      <td>-157.83740</td>\n",
       "      <td>7.0</td>\n",
       "    </tr>\n",
       "    <tr>\n",
       "      <th>2</th>\n",
       "      <td>USC00519281</td>\n",
       "      <td>WAIHEE 837.5, HI US</td>\n",
       "      <td>0.06</td>\n",
       "      <td>21.45167</td>\n",
       "      <td>-157.84889</td>\n",
       "      <td>32.9</td>\n",
       "    </tr>\n",
       "    <tr>\n",
       "      <th>3</th>\n",
       "      <td>USC00519397</td>\n",
       "      <td>WAIKIKI 717.2, HI US</td>\n",
       "      <td>0.04</td>\n",
       "      <td>21.27160</td>\n",
       "      <td>-157.81680</td>\n",
       "      <td>3.0</td>\n",
       "    </tr>\n",
       "    <tr>\n",
       "      <th>4</th>\n",
       "      <td>USC00519523</td>\n",
       "      <td>WAIMANALO EXPERIMENTAL FARM, HI US</td>\n",
       "      <td>0.00</td>\n",
       "      <td>21.33556</td>\n",
       "      <td>-157.71139</td>\n",
       "      <td>19.5</td>\n",
       "    </tr>\n",
       "  </tbody>\n",
       "</table>\n",
       "</div>"
      ]
     },
     "metadata": {},
     "execution_count": 15
    }
   ],
   "metadata": {}
  },
  {
   "cell_type": "code",
   "execution_count": 16,
   "source": [
    "# Use this function to calculate the daily normals \r\n",
    "# (i.e. the averages for tmin, tmax, and tavg for all historic data matching a specific month and day)\r\n",
    "\r\n",
    "def daily_normals(date):\r\n",
    "    \"\"\"Daily Normals.\r\n",
    "    \r\n",
    "    Args:\r\n",
    "        date (str): A date string in the format '%m-%d'\r\n",
    "        \r\n",
    "    Returns:\r\n",
    "        A list of tuples containing the daily normals, tmin, tavg, and tmax\r\n",
    "    \r\n",
    "    \"\"\"\r\n",
    "    \r\n",
    "    sel = [func.min(Measurement.tobs), func.avg(Measurement.tobs), func.max(Measurement.tobs)]\r\n",
    "    return session.query(*sel).filter(func.strftime(\"%m-%d\", Measurement.date) == date).all()\r\n",
    "\r\n",
    "# For example\r\n",
    "daily_normals(\"01-01\")"
   ],
   "outputs": [
    {
     "output_type": "execute_result",
     "data": {
      "text/plain": [
       "[(62.0, 69.15384615384616, 77.0)]"
      ]
     },
     "metadata": {},
     "execution_count": 16
    }
   ],
   "metadata": {}
  },
  {
   "cell_type": "code",
   "execution_count": 17,
   "source": [
    "# Set the start and end date of the trip\r\n",
    "# start_date = '2017-08-01'\r\n",
    "# end_date = '2017-08-07'\r\n",
    "\r\n",
    "# calculate the daily normals for your trip\r\n",
    "# push each tuple of calculations into a list called `normals`\r\n",
    "# Use the start and end date to create a range of dates\r\n",
    "# Strip off the year and save a list of strings in the format %m-%d\r\n",
    "# Use the `daily_normals` function to calculate the normals for each date string \r\n",
    "# and append the results to a list called `normals`.\r\n",
    "\r\n",
    "\r\n",
    "trip_dates=[\"08-01\", \"08-02\", \"08-03\", \"08-04\", \"08-05\", \"08-06\", \"08-07\"]\r\n",
    "\r\n",
    "normals=[]\r\n",
    "\r\n",
    "def daily_normals(date):\r\n",
    "    sel = [func.min(Measurement.tobs), \r\n",
    "           func.round(func.avg(Measurement.tobs),2), \r\n",
    "           func.max(Measurement.tobs)]\r\n",
    "    return session.query(*sel).filter(func.strftime(\"%m-%d\", Measurement.date) == date).all()\r\n",
    "\r\n",
    "for i in trip_dates:\r\n",
    "    normals.append(daily_normals(i)[0])\r\n",
    "\r\n",
    "normals"
   ],
   "outputs": [
    {
     "output_type": "execute_result",
     "data": {
      "text/plain": [
       "[(67.0, 75.54, 83.0),\n",
       " (68.0, 75.6, 84.0),\n",
       " (70.0, 76.61, 85.0),\n",
       " (69.0, 76.71, 84.0),\n",
       " (69.0, 76.15, 82.0),\n",
       " (67.0, 76.25, 83.0),\n",
       " (71.0, 77.16, 83.0)]"
      ]
     },
     "metadata": {},
     "execution_count": 17
    }
   ],
   "metadata": {}
  },
  {
   "cell_type": "code",
   "execution_count": 18,
   "source": [
    "# Load the previous query results into a Pandas DataFrame and add the `trip_dates` range as the `date` index\r\n",
    "trip_daily_normals_df=pd.DataFrame(normals,columns=['min_temp','avg_temp','max_temp'],\r\n",
    "                                   index=trip_dates)\r\n",
    "\r\n",
    "trip_daily_normals_df.index.name='date'\r\n",
    "trip_daily_normals_df"
   ],
   "outputs": [
    {
     "output_type": "execute_result",
     "data": {
      "text/plain": [
       "       min_temp  avg_temp  max_temp\n",
       "date                               \n",
       "08-01      67.0     75.54      83.0\n",
       "08-02      68.0     75.60      84.0\n",
       "08-03      70.0     76.61      85.0\n",
       "08-04      69.0     76.71      84.0\n",
       "08-05      69.0     76.15      82.0\n",
       "08-06      67.0     76.25      83.0\n",
       "08-07      71.0     77.16      83.0"
      ],
      "text/html": [
       "<div>\n",
       "<style scoped>\n",
       "    .dataframe tbody tr th:only-of-type {\n",
       "        vertical-align: middle;\n",
       "    }\n",
       "\n",
       "    .dataframe tbody tr th {\n",
       "        vertical-align: top;\n",
       "    }\n",
       "\n",
       "    .dataframe thead th {\n",
       "        text-align: right;\n",
       "    }\n",
       "</style>\n",
       "<table border=\"1\" class=\"dataframe\">\n",
       "  <thead>\n",
       "    <tr style=\"text-align: right;\">\n",
       "      <th></th>\n",
       "      <th>min_temp</th>\n",
       "      <th>avg_temp</th>\n",
       "      <th>max_temp</th>\n",
       "    </tr>\n",
       "    <tr>\n",
       "      <th>date</th>\n",
       "      <th></th>\n",
       "      <th></th>\n",
       "      <th></th>\n",
       "    </tr>\n",
       "  </thead>\n",
       "  <tbody>\n",
       "    <tr>\n",
       "      <th>08-01</th>\n",
       "      <td>67.0</td>\n",
       "      <td>75.54</td>\n",
       "      <td>83.0</td>\n",
       "    </tr>\n",
       "    <tr>\n",
       "      <th>08-02</th>\n",
       "      <td>68.0</td>\n",
       "      <td>75.60</td>\n",
       "      <td>84.0</td>\n",
       "    </tr>\n",
       "    <tr>\n",
       "      <th>08-03</th>\n",
       "      <td>70.0</td>\n",
       "      <td>76.61</td>\n",
       "      <td>85.0</td>\n",
       "    </tr>\n",
       "    <tr>\n",
       "      <th>08-04</th>\n",
       "      <td>69.0</td>\n",
       "      <td>76.71</td>\n",
       "      <td>84.0</td>\n",
       "    </tr>\n",
       "    <tr>\n",
       "      <th>08-05</th>\n",
       "      <td>69.0</td>\n",
       "      <td>76.15</td>\n",
       "      <td>82.0</td>\n",
       "    </tr>\n",
       "    <tr>\n",
       "      <th>08-06</th>\n",
       "      <td>67.0</td>\n",
       "      <td>76.25</td>\n",
       "      <td>83.0</td>\n",
       "    </tr>\n",
       "    <tr>\n",
       "      <th>08-07</th>\n",
       "      <td>71.0</td>\n",
       "      <td>77.16</td>\n",
       "      <td>83.0</td>\n",
       "    </tr>\n",
       "  </tbody>\n",
       "</table>\n",
       "</div>"
      ]
     },
     "metadata": {},
     "execution_count": 18
    }
   ],
   "metadata": {}
  },
  {
   "cell_type": "code",
   "execution_count": 19,
   "source": [
    "# Plot the daily normals as an area plot with `stacked=False`\r\n",
    "plt.rcParams['figure.figsize']=(11,7)\r\n",
    "colors=['xkcd:green yellow','xkcd:very light blue','xkcd:deep aqua']\r\n",
    "trip_daily_normals_df.plot.area(linewidth=5,stacked=False,rot=0,alpha=0.5,color=colors);\r\n",
    "\r\n",
    "plt.ylim(-5,100)\r\n",
    "plt.yticks(size=14)\r\n",
    "plt.xticks(fontsize=14)\r\n",
    "plt.xlabel('Date (mm-dd)',fontsize=16,color='black',labelpad=20)\r\n",
    "plt.ylabel('Temperature (F)',fontsize=16,color='black',labelpad=20)\r\n",
    "plt.title('Daily Temperature Normals\\nHonolulu, Hawaii',fontsize=20,pad=40)\r\n",
    "plt.gca().legend(loc='center left', bbox_to_anchor=(1.02, 0.91),shadow=True,borderpad=1);\r\n",
    "plt.savefig(\"Images/bonus_daily_temp_normals.png\")"
   ],
   "outputs": [
    {
     "output_type": "display_data",
     "data": {
      "text/plain": [
       "<Figure size 792x504 with 1 Axes>"
      ],
      "image/png": "[encoded data removed]"
     },
     "metadata": {}
    }
   ],
   "metadata": {}
  },
  {
   "cell_type": "markdown",
   "source": [
    "## Close Session"
   ],
   "metadata": {}
  },
  {
   "cell_type": "code",
   "execution_count": 20,
   "source": [
    "session.close()"
   ],
   "outputs": [],
   "metadata": {}
  }
 ],
 "metadata": {
  "kernelspec": {
   "name": "python3",
   "display_name": "Python 3.8.5 64-bit ('base': conda)"
  },
  "language_info": {
   "codemirror_mode": {
    "name": "ipython",
    "version": 3
   },
   "file_extension": ".py",
   "mimetype": "text/x-python",
   "name": "python",
   "nbconvert_exporter": "python",
   "pygments_lexer": "ipython3",
   "version": "3.8.5"
  },
  "interpreter": {
   "hash": "8fac594bfae6525c0c41b4041d2d72effa188cc8ead05f81b1fab2bb098927fb"
  }
 },
 "nbformat": 4,
 "nbformat_minor": 4
}